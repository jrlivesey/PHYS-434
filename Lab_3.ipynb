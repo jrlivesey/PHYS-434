{
 "cells": [
  {
   "cell_type": "markdown",
   "id": "0fba3fc8-042d-4e07-a321-0278f4fc7971",
   "metadata": {},
   "source": [
    "# Lab 3\n",
    "**Joseph Livesey**"
   ]
  },
  {
   "cell_type": "code",
   "execution_count": 1,
   "id": "fb236886-3e82-45eb-b0ed-d9fab0a25f09",
   "metadata": {},
   "outputs": [],
   "source": [
    "import numpy as np\n",
    "import matplotlib.pyplot as plt\n",
    "from scipy import stats, signal"
   ]
  },
  {
   "cell_type": "markdown",
   "id": "e478e493-2cec-4c5d-8e39-2212c61496c1",
   "metadata": {},
   "source": [
    "## Problem 1"
   ]
  },
  {
   "cell_type": "markdown",
   "id": "766657c7-ff70-42ed-851c-8755ce50457c",
   "metadata": {},
   "source": [
    "Oftentimes we encounter noise due to the instrumentation in our experiments. We can eliminate much of the \"bad data\" due to this noise by establishing a statistical threshold, beyond which we eliminate any anomalous readings. The following distribution and \"bad data\" were taken from the lab assignment."
   ]
  },
  {
   "cell_type": "code",
   "execution_count": 2,
   "id": "06e8a378-eff3-4c9f-af24-085b7522ea11",
   "metadata": {},
   "outputs": [
    {
     "data": {
      "image/png": "[encoded data removed]",
      "text/plain": [
       "<Figure size 864x720 with 1 Axes>"
      ]
     },
     "metadata": {
      "needs_background": "light"
     },
     "output_type": "display_data"
    }
   ],
   "source": [
    "data = np.append(stats.norm.rvs(loc = 12., scale = 0.4, size = 100000), [10., 10.3, 2.1, 0., 0., 15.6, 22.3, 12.7])\n",
    "\n",
    "fig, ax = plt.subplots(1, 1, figsize=(12, 10))\n",
    "ax.hist(data, 100, density=True)\n",
    "ax.set_title('Simulated data', fontsize=24)\n",
    "ax.set_xlabel(r'$x$', fontsize=18)\n",
    "ax.set_ylabel(r'data', fontsize=18)\n",
    "plt.tick_params(labelsize=18)\n",
    "plt.yscale('log')\n",
    "plt.show()"
   ]
  },
  {
   "cell_type": "markdown",
   "id": "7c13cc47-73cf-4503-8595-b1b983166b55",
   "metadata": {},
   "source": [
    "In order to eliminate these points, we can establish some probability threshold that good data may not lie beyond. Our statistical question might therefore be: How many data points have a probability less than $4\\sigma$? In math, for how many data points satisfy\n",
    "\n",
    "$$ \\frac{x - \\mu}{\\sigma} > 4. $$\n",
    "\n",
    "This gives the corresponding value in the standard normal distribution (sigma value)."
   ]
  },
  {
   "cell_type": "code",
   "execution_count": 3,
   "id": "5982a55d-e6b9-40fb-8f12-80ac0590eb2d",
   "metadata": {},
   "outputs": [],
   "source": [
    "def good(x, mean, stdev):\n",
    "    z = (x - mean)/stdev\n",
    "    if np.abs(z) <= 4.0:\n",
    "        return True\n",
    "    else:\n",
    "        return False"
   ]
  },
  {
   "cell_type": "code",
   "execution_count": 4,
   "id": "0432866f-2d58-47e5-8528-69313593f07b",
   "metadata": {},
   "outputs": [
    {
     "data": {
      "text/plain": [
       "(99998, 7, 1, 2)"
      ]
     },
     "execution_count": 4,
     "metadata": {},
     "output_type": "execute_result"
    }
   ],
   "source": [
    "real_bad_data = [10., 10.3, 2.1, 0., 0., 15.6, 22.3, 12.7]\n",
    "\n",
    "good_data = []\n",
    "bad_data = []\n",
    "\n",
    "false_goods = 0\n",
    "false_bads = 0\n",
    "true_goods = 0\n",
    "true_bads = 0\n",
    "\n",
    "for d in data:\n",
    "    if good(d, 12, 0.4) == True:\n",
    "        good_data.append(d)\n",
    "        if d in real_bad_data:\n",
    "            false_goods += 1\n",
    "        else:\n",
    "            true_goods += 1\n",
    "    else:\n",
    "        bad_data.append(d)\n",
    "        if d not in real_bad_data:\n",
    "            false_bads += 1\n",
    "        else:\n",
    "            true_bads += 1\n",
    "\n",
    "true_goods, true_bads, false_goods, false_bads"
   ]
  },
  {
   "cell_type": "markdown",
   "id": "bc3e2823-6c9e-49fb-b5ef-6e00e5da7377",
   "metadata": {},
   "source": [
    "We can thus construct the following truth table.\n",
    "\n",
    "|  | True good | True bad |\n",
    "| --- | --- | ---|\n",
    "| My test good | 99994 | 1 |\n",
    "| My test bad | 6 | 7 |"
   ]
  },
  {
   "cell_type": "markdown",
   "id": "cf7a0985-f320-47fb-b227-5276c9fa91d6",
   "metadata": {},
   "source": [
    "If I were to have selected a higher statistical threshold, the number of good data points midjudged as bad ones would have decreased. This is simply because it is less likely to encounter the Gaussian-distributed data at higher sigma values. Only 1 bad data point was misjudged as good. This isn't always avoidable, as bad data can lie close to the mean of the distribution. Bad data can appear anywhere, so these can't necessarily be eliminated in greater proportion by moving the statistical threshold."
   ]
  },
  {
   "cell_type": "markdown",
   "id": "9d160596-7735-4756-991f-2b6f6adf96cd",
   "metadata": {},
   "source": [
    "## Problem 2"
   ]
  },
  {
   "cell_type": "markdown",
   "id": "fd723769-bf66-4061-a760-a7d5259c3fc2",
   "metadata": {},
   "source": [
    "Asteroids most often move across the sky with a proper motion that is large relative to noise due to instrumental and atmospheric noise. We happen to know that the movement \"background\" due to these effects is distributed as a 2D Gaussian, with standard deviation $1''$. A significant detection is, as always, one with a sigma value of or exceeding 5. In words, we would like to know what distance traversed between observations corresponds to a $5\\sigma$ measurement. In math, we would like to find the distance traversed at which\n",
    "\n",
    "$$ F_R(\\Delta r) = \\phi(5), $$\n",
    "\n",
    "where $F_R(r)$ is the cdf of the background and $\\phi(z)$ is the cdf of the standard normal distribution. Of course, in order to find $F_R(r)$ we must determine what kind of distribution the background is. Because it is radially symmetric, this is straightforward after defining $r^2 = x^2 + y^2$, bearing in mind that the pdf of the background along the $x$-axis is $f_X(x)$ and that along the $y$-axis is $f_Y(y)$, both of which are Gaussian with the same standard deviation $\\sigma$. The cdf is therefore\n",
    "\n",
    "$$\n",
    "F_R(\\Delta r) = \\int_0^{\\Delta x} \\int_0^{\\Delta y} f_X(x) f_Y(y) \\: dy \\: dx = \\frac{1}{2\\pi\\sigma^2} \\int_0^{\\Delta x} \\int_0^{\\Delta y} \\exp \\left ( -\\frac{x^2 + y^2}{2\\sigma^2} \\right ) \\: dy \\: dx = \\frac{1}{2\\pi\\sigma^2} \\int_0^{2\\pi} \\int_0^{\\Delta r} r \\exp \\left ( -\\frac{r^2}{2\\sigma^2} \\right ) \\: dr \\: d\\theta = \\frac{1}{\\sigma^2} \\int_0^{\\Delta r} r \\exp \\left ( -\\frac{r^2}{2\\sigma^2} \\right ) \\: dr\n",
    "$$\n",
    "\n",
    "From the fundamental theorem of calculus, the pdf of the resulting distribution is just the integrand.\n",
    "\n",
    "$$ f_R(\\Delta r) = \\frac{\\Delta r}{\\sigma^2} \\exp \\left ( -\\frac{\\Delta r^2}{2\\sigma^2} \\right ) $$\n",
    "\n",
    "This is the pdf of the Rayleigh distribution. Hence, the distances from the mean in our 2D data are Rayleigh distributed. With this knowledge, we employ our usual method for finding the $5\\sigma$ value."
   ]
  },
  {
   "cell_type": "code",
   "execution_count": 5,
   "id": "613625c8-0fc9-43a6-9af9-90fa4aa0b051",
   "metadata": {},
   "outputs": [
    {
     "name": "stdout",
     "output_type": "stream",
     "text": [
      "5.495495495495495\n"
     ]
    }
   ],
   "source": [
    "r = np.linspace(0, 10, 1000)\n",
    "\n",
    "for delta_r in r:\n",
    "    if stats.rayleigh.cdf(delta_r) >= stats.norm.cdf(5.0):\n",
    "        print(delta_r)\n",
    "        break"
   ]
  },
  {
   "cell_type": "markdown",
   "id": "64a94e5d-6273-4b39-be3e-5b96262123bb",
   "metadata": {},
   "source": [
    "The $5\\sigma$ distance is $\\sim 5.50''$."
   ]
  },
  {
   "cell_type": "markdown",
   "id": "223dffcb-3fce-411a-aad2-39b304b6fc0b",
   "metadata": {},
   "source": [
    "## Problem 3\n",
    "\n"
   ]
  },
  {
   "cell_type": "markdown",
   "id": "6f816dc7-4ee8-495b-9501-f5bec0fb0a43",
   "metadata": {},
   "source": [
    "We happen to know that the cosmic ray background we expect when observing a Moon-size and shape region of the sky is $1 \\text{ min}^{-1}$. We observe in the direction of the Moon for 8 hours per night over 15 nights, detecting a total of 6800 cosmic rays. This gives us a kind of signal due to the Moon in our data, but how significant is this signal? We first state our statistical question in words. What is the probability that if we observe 6800 cosmic rays from the direction of the Moon over $15 \\times 120 = 7200$ minutes, this signal was created by the $1 \\text{ min}^{-1}$ cosmic ray background? In math, we would like to find the probability\n",
    "\n",
    "$$ P(6800) = \\sum_{k=0}^{6800} \\text{pmf}(k), $$\n",
    "\n",
    "where $\\text{pmf}(k)$ here is the probability mass function of the Poisson distribution with parameter $\\lambda=1$, convolved with itself 7200 times. We need to perform these convolutions since we are looking at a *compound* event. We know that the background is a Poisson distribution with parameter 1 over one minute of observation, but this does not mean that the background over 7200 minutes is a Poisson distribution with parameter 7200. We compute this sum and then compare the resulting probability against the standard normal distribution in order to obtain the sigma value of this measurement."
   ]
  },
  {
   "cell_type": "code",
   "execution_count": 6,
   "id": "bc2c8ea5-7b29-4e84-be4d-40872f1f3a18",
   "metadata": {},
   "outputs": [],
   "source": [
    "def background(original, n):\n",
    "    background = original\n",
    "    for _ in range(n - 1):\n",
    "        background = signal.convolve(background, original)\n",
    "    return background"
   ]
  },
  {
   "cell_type": "code",
   "execution_count": 7,
   "id": "71733f12-36cd-4cad-a51a-75b9d11be4cf",
   "metadata": {},
   "outputs": [],
   "source": [
    "original = [stats.poisson.pmf(k, mu=1) for k in np.arange(0, 10)]\n",
    "overall = background(original, 7200)"
   ]
  },
  {
   "cell_type": "code",
   "execution_count": 8,
   "id": "4c535d34-6dbc-49bd-b315-a61d91f0304d",
   "metadata": {},
   "outputs": [
    {
     "data": {
      "text/plain": [
       "-4.762690787197976"
      ]
     },
     "execution_count": 8,
     "metadata": {},
     "output_type": "execute_result"
    }
   ],
   "source": [
    "prob = sum(overall[0:6800]) / sum(overall)\n",
    "stats.norm.ppf(prob)"
   ]
  },
  {
   "cell_type": "markdown",
   "id": "af6d8afb-5068-4906-b477-377e96ecf15d",
   "metadata": {},
   "source": [
    "So, this is a $\\sim 4.8\\sigma$ detection of the Moon, slightly beneath the significance required to claim a detection. The question that we've just asked and answered is unique among those we have dealt with in this class, because instead of dealing with a signal that rises against the background, due to a particle or the proper motion of an asteroid or what have you, we just looked at the significance of a \"dip\" in the background, due to the shielding effect of the Moon."
   ]
  },
  {
   "cell_type": "code",
   "execution_count": null,
   "id": "1f8780cd-8628-4852-b6a0-a3be617d30b1",
   "metadata": {},
   "outputs": [],
   "source": []
  }
 ],
 "metadata": {
  "kernelspec": {
   "display_name": "Python 3",
   "language": "python",
   "name": "python3"
  },
  "language_info": {
   "codemirror_mode": {
    "name": "ipython",
    "version": 3
   },
   "file_extension": ".py",
   "mimetype": "text/x-python",
   "name": "python",
   "nbconvert_exporter": "python",
   "pygments_lexer": "ipython3",
   "version": "3.8.8"
  }
 },
 "nbformat": 4,
 "nbformat_minor": 5
}
