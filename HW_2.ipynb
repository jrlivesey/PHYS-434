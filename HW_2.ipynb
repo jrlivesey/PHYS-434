{
 "cells": [
  {
   "cell_type": "markdown",
   "id": "62c717c2-b581-4c6e-a127-f837d4ab1111",
   "metadata": {},
   "source": [
    "# Homework 2\n",
    "\n",
    "**Joseph Livesey**\n",
    "\n",
    "**October 14, 2021**"
   ]
  },
  {
   "cell_type": "code",
   "execution_count": 1,
   "id": "f7ff1854-60ed-47a5-96cc-0225c7a52cfa",
   "metadata": {},
   "outputs": [],
   "source": [
    "import numpy as np\n",
    "import matplotlib.pyplot as plt\n",
    "from scipy import stats, signal"
   ]
  },
  {
   "cell_type": "markdown",
   "id": "5f8c7eb9-f6ae-435d-8d3b-e58e6d52c14a",
   "metadata": {},
   "source": [
    "## Problem 1"
   ]
  },
  {
   "cell_type": "markdown",
   "id": "52e9ef56-6f76-4a4e-ad2f-c0285878cb72",
   "metadata": {},
   "source": [
    "There is only one way to roll snake eyes: rolling two 1s. There are six ways to roll sevens: 1 + 6, 2 + 5, 3 + 4, 4 + 3, 5 + 2, and 1 + 6. Thus, the probability of rolling sevens is six times larger.\n",
    "\n",
    "$$ \\frac{P(\\text{sevens})}{P(\\text{snake eyes})} = 6 $$"
   ]
  },
  {
   "cell_type": "markdown",
   "id": "9a4c85b0-02c9-4434-8d2d-bb2895be2c0f",
   "metadata": {},
   "source": [
    "## Problem 2"
   ]
  },
  {
   "cell_type": "markdown",
   "id": "20c66172-1b40-4486-8f4f-2cf381b5eb30",
   "metadata": {},
   "source": [
    "The probability mass function for one roll of a die is\n",
    "\n",
    "$$ f_1(k) = \\begin{cases} \\frac{1}{6}, & k \\in \\{ 1, 2, 3, 4, 5, 6 \\}, \\\\ 0, & \\text{otherwise}. \\end{cases} $$\n",
    "\n",
    "So, to find the probability distribution for two dice, we convolve $f_1(k)$ with itself as follows.\n",
    "\n",
    "$$ f_2(k) = f_1(k) * f_1(k) = \\sum_t f_1(t) f_1(k - t) $$\n",
    "\n",
    "First, we do this analytically.\n",
    "\n",
    "$$\n",
    "f_2(1) = \\sum_t f_1(t) f_1(1 - t) = 0 \\\\\n",
    "f_2(2) = \\sum_t f_1(t) f_1(2 - t) = f_1(1) f_1(1) = \\frac{1}{36} \\\\\n",
    "f_2(3) = \\sum_t f_1(t) f_1(3 - t) = f_1(1) f_1(2) + f_1(2) f_1(1) = \\frac{1}{18} \\\\\n",
    "f_2(4) = \\sum_t f_1(t) f_1(4 - t) = f_1(1) f_1(3) + f_1(2) f_1(2) + f_1(3) f_1(1) = \\frac{1}{12} \\\\\n",
    "f_2(5) = \\sum_t f_1(t) f_1(5 - t) = f_1(1) f_1(4) + f_1(2) f_1(3) + f_1(3) f_1(2) + f_1(4) f_1(1) = \\frac{1}{9} \\\\\n",
    "f_2(6) = \\sum_t f_1(t) f_1(6 - t) = f_1(1) f_1(5) + f_1(2) f_1(4) + f_1(3) f_1(3) + f_1(4) f_1(2) + f_1(5) f_1(1) = \\frac{5}{36} \\\\\n",
    "f_2(7) = \\sum_t f_1(t) f_1(7 - t) = f_1(1) f_1(6) + f_1(2) f_1(5) + f_1(3) f_1(4) + f_1(4) f_1(3) + f_1(5) f_1(2) + f_1(6) f_1(1) = \\frac{1}{6} \\\\\n",
    "f_2(8) = \\sum_t f_1(t) f_1(8 - t) = f_1(2) f_1(6) + f_1(3) f_1(5) + f_1(4) f_1(4) + f_1(5) f_1(3) + f_1(6) f_1(2) = \\frac{5}{36} \\\\\n",
    "f_2(9) = \\sum_t f_1(t) f_1(9 - t) = f_1(3) f_1(6) + f_1(4) f_1(5) + f_1(5) f_1(4) + f_1(6) f_1(3) = \\frac{1}{9} \\\\\n",
    "f_2(10) = \\sum_t f_1(t) f_1(10 - t) = f_1(4) f_1(6) + f_1(5) f_1(5) + f_1(6) f_1(4) = \\frac{1}{12} \\\\\n",
    "f_2(11) = \\sum_t f_1(t) f_1(11 - t) = f_1(5) f_1(6) + f_1(6) f_1(5) = \\frac{1}{18} \\\\\n",
    "f_2(12) = \\sum_t f_1(t) f_1(12 - t) = f_1(6) f_1(6) = \\frac{1}{36}\n",
    "$$\n",
    "\n",
    "We must now verify that these probabilities sum to unity.\n",
    "\n",
    "$$ \\sum_k f_2(k) = \\frac{1}{36} + \\frac{1}{18} + \\frac{1}{12} + \\frac{1}{9} + \\frac{5}{36} + \\frac{1}{6} + \\frac{5}{36} + \\frac{1}{9} + \\frac{1}{12} + \\frac{1}{18} + \\frac{1}{36} = 1 $$\n",
    "\n",
    "Now, we do it numerically."
   ]
  },
  {
   "cell_type": "code",
   "execution_count": 2,
   "id": "909d7659-8410-4770-aac9-4f1e4cea6484",
   "metadata": {},
   "outputs": [
    {
     "name": "stdout",
     "output_type": "stream",
     "text": [
      "f_2(1)=0.0\n",
      "f_2(2)=0.027777777777777776\n",
      "f_2(3)=0.05555555555555555\n",
      "f_2(4)=0.08333333333333333\n",
      "f_2(5)=0.1111111111111111\n",
      "f_2(6)=0.1388888888888889\n",
      "f_2(7)=0.16666666666666669\n",
      "f_2(8)=0.1388888888888889\n",
      "f_2(9)=0.1111111111111111\n",
      "f_2(10)=0.08333333333333333\n",
      "f_2(11)=0.05555555555555555\n",
      "f_2(12)=0.027777777777777776\n"
     ]
    }
   ],
   "source": [
    "def f1(k):\n",
    "    if k >= 1 and k <= 6:\n",
    "        prob = 1.0/6\n",
    "    else:\n",
    "        prob = 0\n",
    "    return prob\n",
    "\n",
    "def f2(k):\n",
    "    prob = 0\n",
    "    for t in range(k):\n",
    "        prob += f1(t) * f1(k - t)\n",
    "    return prob\n",
    "\n",
    "for k in np.arange(1,13):\n",
    "    print('f_2(' + str(k) + ')=' + str(f2(k)))"
   ]
  },
  {
   "cell_type": "markdown",
   "id": "58e3f3a6-3f30-41b7-865c-42469db51d73",
   "metadata": {},
   "source": [
    "These values match the ones we derived analytically."
   ]
  },
  {
   "cell_type": "markdown",
   "id": "355b6bcf-64a4-4679-9c11-5c28a01db745",
   "metadata": {},
   "source": [
    "## Problem 3"
   ]
  },
  {
   "cell_type": "markdown",
   "id": "6f59fac4-5788-4440-86c1-695c336b09e1",
   "metadata": {},
   "source": [
    "The mean of the discrete probability distribution $f_2(k)$ is\n",
    "\n",
    "$$ \\mu = E(k) = \\sum_k k f_2(k). $$\n",
    "\n",
    "The variance is\n",
    "\n",
    "$$ \\sigma^2 = \\text{Var}(k) = E(k^2) - E(k)^2 = \\sum_k k^2 f_2(k) - \\left ( \\sum_k k f_2(k) \\right )^2. $$"
   ]
  },
  {
   "cell_type": "code",
   "execution_count": 3,
   "id": "6fb6cde9-0054-491f-92a1-b593a0178ce1",
   "metadata": {},
   "outputs": [
    {
     "name": "stdout",
     "output_type": "stream",
     "text": [
      "7.0 5.833333333333336\n"
     ]
    }
   ],
   "source": [
    "mean = sum([k * f2(k) for k in np.arange(1,13)])\n",
    "var  = sum([k**2 * f2(k) for k in np.arange(1,13)]) - mean**2\n",
    "\n",
    "print(mean, var)"
   ]
  },
  {
   "cell_type": "markdown",
   "id": "cd03255f-3970-4a2d-a8e5-4237350fe27b",
   "metadata": {},
   "source": [
    "The mean of the distribution is $\\mu=7.0$, while the variance is $\\sigma^2 \\approx 5.83$."
   ]
  },
  {
   "cell_type": "markdown",
   "id": "214d0278-0cd3-4786-984b-798d04a68d3e",
   "metadata": {},
   "source": [
    "## Problem 4"
   ]
  },
  {
   "cell_type": "markdown",
   "id": "19d99181-c8d9-4211-822e-7f45d4a400f7",
   "metadata": {},
   "source": [
    "Let $f_{10}(k)$ be the probability density function for the sum of 10 rolls of dice. We compute this function by convolving $f_1(k)$ with itself 10 times."
   ]
  },
  {
   "cell_type": "code",
   "execution_count": 4,
   "id": "ca5552c6-18c9-43e9-b16c-63a414bcdb2c",
   "metadata": {},
   "outputs": [],
   "source": [
    "# Array representing the pmf of 1 roll\n",
    "f_1 = [f1(k) for k in np.arange(1, 7)]\n",
    "\n",
    "# Convolution to find the pmf of 10 rolls\n",
    "def f10():\n",
    "    f = [f_1[i] for i in range(len(f_1))]\n",
    "    for _ in range(9):\n",
    "        f = np.convolve(f, f_1)\n",
    "    return f"
   ]
  },
  {
   "cell_type": "code",
   "execution_count": 5,
   "id": "0434eff0-6176-4e94-ad27-71a96d11e609",
   "metadata": {},
   "outputs": [
    {
     "data": {
      "text/plain": [
       "array([1.65381717e-08, 1.65381717e-07, 9.09599443e-07, 3.63839777e-06,\n",
       "       1.18247928e-05, 3.31094197e-05, 8.26081676e-05, 1.87542867e-04,\n",
       "       3.92946959e-04, 7.67701930e-04, 1.40951530e-03, 2.44665712e-03,\n",
       "       4.03407353e-03, 6.34189270e-03, 9.53533096e-03, 1.37465945e-02,\n",
       "       1.90415547e-02, 2.53867551e-02, 3.26236936e-02, 4.04573294e-02,\n",
       "       4.84643679e-02, 5.61241048e-02, 6.28704385e-02, 6.81581055e-02,\n",
       "       7.15327194e-02, 7.26928060e-02, 7.15327194e-02, 6.81581055e-02,\n",
       "       6.28704385e-02, 5.61241048e-02, 4.84643679e-02, 4.04573294e-02,\n",
       "       3.26236936e-02, 2.53867551e-02, 1.90415547e-02, 1.37465945e-02,\n",
       "       9.53533096e-03, 6.34189270e-03, 4.03407353e-03, 2.44665712e-03,\n",
       "       1.40951530e-03, 7.67701930e-04, 3.92946959e-04, 1.87542867e-04,\n",
       "       8.26081676e-05, 3.31094197e-05, 1.18247928e-05, 3.63839777e-06,\n",
       "       9.09599443e-07, 1.65381717e-07, 1.65381717e-08])"
      ]
     },
     "execution_count": 5,
     "metadata": {},
     "output_type": "execute_result"
    }
   ],
   "source": [
    "f10()"
   ]
  },
  {
   "cell_type": "markdown",
   "id": "9ceb1d92-ec12-46cf-b48e-bb573c7f1fda",
   "metadata": {},
   "source": [
    "Here is a plot of the average, which we find by taking the values of $k$ and dividing by the number of trials, 10."
   ]
  },
  {
   "cell_type": "code",
   "execution_count": 6,
   "id": "0b115dc1-1586-4ace-8a85-b9d85e6f2af9",
   "metadata": {},
   "outputs": [
    {
     "data": {
      "image/png": "[encoded data removed]",
      "text/plain": [
       "<Figure size 720x432 with 2 Axes>"
      ]
     },
     "metadata": {
      "needs_background": "light"
     },
     "output_type": "display_data"
    }
   ],
   "source": [
    "k = np.arange(10, 61)\n",
    "\n",
    "fig, ax = plt.subplots(1, 2, figsize=(10,6))\n",
    "ax[0].bar(k/10, f10())\n",
    "ax[1].scatter(k/10, np.log(f10()))\n",
    "ax[1].plot(k/10, -(1.4*(k/10 - 3.5))**2 - 2.7, c='orange', lw=3);"
   ]
  },
  {
   "cell_type": "markdown",
   "id": "6de571c3-2786-4cde-bd9e-a61c36d0b7f3",
   "metadata": {},
   "source": [
    "This appears to be a Gaussian distribution, because the semilog plot of the data is well-fit by a parabola."
   ]
  },
  {
   "cell_type": "markdown",
   "id": "3c080812-e29e-4f84-a638-c1406b8eae25",
   "metadata": {},
   "source": [
    "## Problem 5"
   ]
  },
  {
   "cell_type": "markdown",
   "id": "ebe174a9-bc2b-4380-9b80-2d14b3ac07ca",
   "metadata": {},
   "source": [
    "We can make two different Gaussian distributions in `scipy` and combine them using a convolution."
   ]
  },
  {
   "cell_type": "code",
   "execution_count": 7,
   "id": "ce849d45-5014-44b4-8e6e-4a277ca7c220",
   "metadata": {},
   "outputs": [],
   "source": [
    "xx = np.linspace(0, 10, 1000)\n",
    "\n",
    "f = [stats.norm.pdf(x, loc=5.0, scale=1.0) for x in xx]\n",
    "\n",
    "ff = signal.convolve(f, f)"
   ]
  },
  {
   "cell_type": "code",
   "execution_count": 9,
   "id": "124a1bbd-8075-4d4d-8568-494e8094cc2d",
   "metadata": {},
   "outputs": [
    {
     "data": {
      "image/png": "[encoded data removed]",
      "text/plain": [
       "<Figure size 864x576 with 2 Axes>"
      ]
     },
     "metadata": {
      "needs_background": "light"
     },
     "output_type": "display_data"
    }
   ],
   "source": [
    "fig, ax = plt.subplots(1, 2, figsize=(12, 8))\n",
    "ax[0].bar(xx, f/sum(f), label=r'$f$')\n",
    "ax[0].bar(np.linspace(0, 20, len(ff))/2, ff/sum(ff/2), label=r'$f \\star f$')\n",
    "ax[0].legend(loc=0)\n",
    "ax[1].scatter(np.linspace(0, 20, len(ff))/2, np.log(ff/sum(ff)))\n",
    "ax[1].plot(xx, -(xx - 5.0)**2 - 6.0, c='y', lw=3)\n",
    "ax[1].set_xlim(0, 10);"
   ]
  },
  {
   "cell_type": "markdown",
   "id": "1d909cda-016b-432e-b7b3-25c0de81e379",
   "metadata": {},
   "source": [
    "We have verified that the convolution (sum of the Gaussian with itself, and therefore also the average) is indeed a Gaussian distribution, since its logarithm is well-fit by a parabola. We note that the mean remains the same as that of the original distribution, with the standard deviation having decreased. This is important because it means we can diminish uncertainty in our measurements by averaging the background distribution over time."
   ]
  },
  {
   "cell_type": "code",
   "execution_count": null,
   "id": "977dba6b-ee05-4c51-9ec7-4aa7dfbcf674",
   "metadata": {},
   "outputs": [],
   "source": []
  }
 ],
 "metadata": {
  "kernelspec": {
   "display_name": "Python 3",
   "language": "python",
   "name": "python3"
  },
  "language_info": {
   "codemirror_mode": {
    "name": "ipython",
    "version": 3
   },
   "file_extension": ".py",
   "mimetype": "text/x-python",
   "name": "python",
   "nbconvert_exporter": "python",
   "pygments_lexer": "ipython3",
   "version": "3.8.8"
  }
 },
 "nbformat": 4,
 "nbformat_minor": 5
}
