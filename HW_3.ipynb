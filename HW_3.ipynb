{
 "cells": [
  {
   "cell_type": "markdown",
   "id": "9a1435b2-0240-4de5-b399-8bd8309fbf4e",
   "metadata": {},
   "source": [
    "# Homework 3\n",
    "\n",
    "**Joseph R. Livesey**\n",
    "\n",
    "**October 21, 2021**"
   ]
  },
  {
   "cell_type": "markdown",
   "id": "e40a034a-1e00-43c2-80e1-c82f87e7a16d",
   "metadata": {},
   "source": [
    "## Problem 1\n",
    "### Part (a)\n",
    "The NN makes fewer errors, 8% as opposed to 12% by the NA.\n",
    "\n",
    "### Part (b)\n",
    "The NA is better for the zoo, because it misidentifies birds as humans less of the time. The goal is to keep birds in the aviary, hence this is the better algorithm to use.\n",
    "\n",
    "### Part (c)\n",
    "If the number of people visiting the aviary has reduced to 1, it is unlikely that either algorithm will miscategorize them as a bird. So, for each, the number of creatures recognized as birds that were actually people should be 0 and the number recognized as people that actually were people should be 1.\n",
    "\n",
    "|  | True Bird | True Person |\n",
    "| --- | --- | --- |\n",
    "| NN Bird | 45 | 0 |\n",
    "| NN Person | 3 | 1 |\n",
    "\n",
    "|  | True Bird | True Person |\n",
    "| --- | --- | --- |\n",
    "| NA Bird | 47 | 0 |\n",
    "| NA Person | 1 | 1 |"
   ]
  },
  {
   "cell_type": "markdown",
   "id": "2ee84694-8405-4241-9a05-c5bb03c9b4a3",
   "metadata": {},
   "source": [
    "## Problem 2\n",
    "### Part (a)\n",
    "According to the Wikipedia page for the exponential distribution, if $X \\sim \\text{Exp}(\\lambda)$, then\n",
    "\n",
    "$$ kX \\sim \\text{Erlang}(k, \\lambda) = \\Gamma(k, \\lambda). $$\n",
    "\n",
    "Therefore, $X + X \\sim \\Gamma(2, \\lambda)$.\n",
    "\n",
    "### Part (b)\n",
    "According to the Wikipedia page for the normal distribution, if $X_1, X_2 \\sim \\mathcal{N}(0, 1)$, then\n",
    "\n",
    "$$ \\frac{X_1}{X_2} \\sim \\text{Cauchy}(0, 1). $$\n",
    "\n",
    "### Part (c)\n",
    "According to the Wikipedia page for the normal distribution, if $X, Y \\sim \\mathcal{N}(0,\\sigma^2)$, then\n",
    "\n",
    "$$ \\sqrt{X^2 + Y^2} \\sim \\text{Rayleigh}(\\sigma). $$"
   ]
  },
  {
   "cell_type": "code",
   "execution_count": null,
   "id": "26c4cb3a-3c97-428e-b9c7-2f455704154f",
   "metadata": {},
   "outputs": [],
   "source": []
  }
 ],
 "metadata": {
  "kernelspec": {
   "display_name": "Python 3",
   "language": "python",
   "name": "python3"
  },
  "language_info": {
   "codemirror_mode": {
    "name": "ipython",
    "version": 3
   },
   "file_extension": ".py",
   "mimetype": "text/x-python",
   "name": "python",
   "nbconvert_exporter": "python",
   "pygments_lexer": "ipython3",
   "version": "3.8.8"
  }
 },
 "nbformat": 4,
 "nbformat_minor": 5
}
